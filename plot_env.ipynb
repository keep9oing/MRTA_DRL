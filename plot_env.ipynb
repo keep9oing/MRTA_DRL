{
 "cells": [
  {
   "cell_type": "code",
   "execution_count": 1,
   "id": "4a20cc2d-d390-43a0-91c2-5cc48e0256c6",
   "metadata": {},
   "outputs": [],
   "source": [
    "import ray\n",
    "import torch\n",
    "import matplotlib.pyplot as plt\n",
    "import random\n",
    "import numpy as np\n",
    "\n",
    "from env.static_env import TA_Static\n",
    "from utils import load_train_config, load_ray_config, save_configs"
   ]
  },
  {
   "cell_type": "code",
   "execution_count": 9,
   "id": "10e56994-40f4-4aa9-b423-8b3c5530ec86",
   "metadata": {},
   "outputs": [],
   "source": [
    "\n",
    "def plot(env):\n",
    "    vehicle_info = env.vehicle_initial\n",
    "    task_info = env.task\n",
    "    vehicle_amount = env.vehicle_total_num\n",
    "    task_amount = env.task_total_num\n",
    "\n",
    "    fig, ax = plt.subplots()\n",
    "\n",
    "    ax.set_title(\"Mission Environment\")\n",
    "    ax.set_xlim((-0.1,1.2))\n",
    "    ax.set_ylim((-0.1,1.2))\n",
    "    ax.set_aspect(\"equal\")\n",
    "\n",
    "\n",
    "    task_colors = [\"r\",\"m\",\"c\"]\n",
    "    for i, (t_type_name, t_info) in enumerate(task_info.items()):\n",
    "        ax.scatter(task_info[t_type_name][\"position\"][0][:,0],task_info[t_type_name][\"position\"][0][:,1],\n",
    "                    marker='x', s=25,  facecolor=task_colors[i], label=t_type_name)\n",
    "\n",
    "\n",
    "    vehicle_markers = ['^','s','o']\n",
    "    for i, (v_type_name, v_info) in enumerate(vehicle_info.items()):\n",
    "            vehicle_depot = v_info[\"position\"]\n",
    "            ax.scatter(vehicle_depot[0][:,0], vehicle_depot[0][:,1], marker=vehicle_markers[i], s=80, label=\"vehicle\")\n",
    "\n",
    "    ax.legend()"
   ]
  },
  {
   "cell_type": "code",
   "execution_count": 81,
   "id": "51f0337e-c3c1-4872-a8cd-1d40d7719432",
   "metadata": {},
   "outputs": [
    {
     "data": {
      "image/png": "[encoded data removed]",
      "text/plain": [
       "<Figure size 432x288 with 1 Axes>"
      ]
     },
     "metadata": {
      "needs_background": "light"
     },
     "output_type": "display_data"
    },
    {
     "ename": "",
     "evalue": "",
     "output_type": "error",
     "traceback": [
      "\u001b[1;31mThe Kernel crashed while executing code in the the current cell or a previous cell. Please review the code in the cell(s) to identify a possible cause of the failure. Click <a href='https://aka.ms/vscodeJupyterKernelCrash'>here</a> for more info. View Jupyter <a href='command:jupyter.viewOutput'>log</a> for further details."
     ]
    }
   ],
   "source": [
    "config_name = \"simple_hom\"\n",
    "cfg = load_train_config(config_name)\n",
    "cfg[\"device\"] = \"cpu\"\n",
    "\n",
    "seed = random.randint(0, 1000)\n",
    "env = TA_Static(cfg, seed)\n",
    "env.reset()\n",
    "\n",
    "plot(env)"
   ]
  },
  {
   "cell_type": "code",
   "execution_count": null,
   "id": "e3cd06fc-cb19-4da2-9bd7-911a5d244181",
   "metadata": {},
   "outputs": [],
   "source": []
  },
  {
   "cell_type": "code",
   "execution_count": null,
   "id": "d4bc07a7-dfdf-4cb4-a8a1-ee6c2ec188ab",
   "metadata": {},
   "outputs": [],
   "source": []
  }
 ],
 "metadata": {
  "kernelspec": {
   "display_name": "ta",
   "language": "python",
   "name": "ta"
  },
  "language_info": {
   "codemirror_mode": {
    "name": "ipython",
    "version": 3
   },
   "file_extension": ".py",
   "mimetype": "text/x-python",
   "name": "python",
   "nbconvert_exporter": "python",
   "pygments_lexer": "ipython3",
   "version": "3.8.13"
  }
 },
 "nbformat": 4,
 "nbformat_minor": 5
}
