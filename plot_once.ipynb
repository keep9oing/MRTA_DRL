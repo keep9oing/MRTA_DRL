{
 "cells": [
  {
   "cell_type": "code",
   "execution_count": 20,
   "id": "4a20cc2d-d390-43a0-91c2-5cc48e0256c6",
   "metadata": {},
   "outputs": [],
   "source": [
    "import ray\n",
    "import torch\n",
    "import matplotlib.pyplot as plt\n",
    "import random\n",
    "import numpy as np\n",
    "\n",
    "from runner import ModelRunner\n",
    "from env.static_env import TA_Static\n",
    "from utils import load_train_config, load_ray_config, save_configs"
   ]
  },
  {
   "cell_type": "code",
   "execution_count": 21,
   "id": "10e56994-40f4-4aa9-b423-8b3c5530ec86",
   "metadata": {},
   "outputs": [],
   "source": [
    "class Sampler(object):\n",
    "    def __init__(self, cfg, decode_type='sampling'):\n",
    "        self.cfg = cfg\n",
    "        self.device = self.cfg[\"device\"]\n",
    "\n",
    "        self.model = ModelRunner(self.cfg)\n",
    "        self.model.to(self.device)\n",
    "\n",
    "        self.reward_buffer = []\n",
    "        self.max_length_buffer = []\n",
    "        self.total_reward_buffer = []\n",
    "        self.baseline_buffer = []\n",
    "        self.episode_buffer = []\n",
    "        for i in range(5):\n",
    "            self.episode_buffer.append([])\n",
    "\n",
    "        self.decode_type = decode_type\n",
    "\n",
    "    def sample(self, env):\n",
    "        self.env = env\n",
    "        with torch.no_grad():\n",
    "            route_set, reward, total_reward, max_length_ngative, max_length, max_id, episode_buffer = self.model(self.env)\n",
    "        \n",
    "        self.route_set = route_set\n",
    "        self.reward_buffer += reward\n",
    "        self.total_reward_buffer.append(total_reward)\n",
    "        self.max_length_buffer.append(max_length)\n",
    "        \n",
    "        for i in range(5):\n",
    "            self.episode_buffer[i] += episode_buffer[i]\n",
    "            \n",
    "    def plot(self):\n",
    "        # print(self.route_set)\n",
    "        # Unpack information\n",
    "        vehicle_info = self.env.vehicle_initial\n",
    "        task_info = self.env.task\n",
    "        vehicle_amount = self.env.vehicle_total_num\n",
    "        task_amount = self.env.task_total_num\n",
    "        \n",
    "        fig, ax = plt.subplots()\n",
    "        \n",
    "        ax.set_title(config_name)\n",
    "        ax.set_xlim((-0.1,1.1))\n",
    "        ax.set_ylim((-0.1,1.1))\n",
    "        ax.set_aspect(\"equal\")\n",
    "        \n",
    "        \n",
    "        task_colors = [\"k\",\"m\",\"c\"]\n",
    "        for i, (t_type_name, t_info) in enumerate(task_info.items()):\n",
    "            ax.scatter(task_info[t_type_name][\"position\"][0][:,0],task_info[t_type_name][\"position\"][0][:,1],\n",
    "                       marker='x', s=25,  facecolor=task_colors[i], label=t_type_name)\n",
    "        \n",
    "        \n",
    "        colors = iter([plt.cm.Set1(i) for i in range(vehicle_amount+1)])\n",
    "        vehicle_color = dict()\n",
    "        vehicle_scatters = []\n",
    "        vehicle_markers = ['^','s','o']\n",
    "        for i, (v_type_name, v_info) in enumerate(vehicle_info.items()):\n",
    "            vehicle_color[v_type_name]=next(colors)\n",
    "            vehicle_depot = v_info[\"position\"]\n",
    "\n",
    "            ax.scatter(vehicle_depot[0][:,0], vehicle_depot[0][:,1], marker='*', s=80, facecolor=vehicle_color[v_type_name])\n",
    "            \n",
    "            for j in range(v_info[\"num\"]):\n",
    "                target_set = np.concatenate((vehicle_depot, task_info[\"visit\"][\"position\"]), axis=1)\n",
    "                route = list(filter(lambda x: x>0, self.route_set[v_type_name][j]))\n",
    "                route.insert(0,0)\n",
    "                # print(target_set)\n",
    "                # print(route)\n",
    "                if j == 0:\n",
    "                    ax.plot(target_set[0][route,0],target_set[0][route,1],\n",
    "                            color = vehicle_color[v_type_name],\n",
    "                            linestyle = ':')\n",
    "                    ax.scatter(target_set[0][route[-1],0],target_set[0][route[-1],1],\n",
    "                               marker=vehicle_markers[i],s=80, facecolors=vehicle_color[v_type_name], label=v_type_name)\n",
    "                else:\n",
    "                    ax.plot(target_set[route][:,0],target_set[route][:,1],\n",
    "                            color = vehicle_color[v_type_name],\n",
    "                            linestyle = ':')\n",
    "                    ax.scatter(target_set[0][route[-1],0],target_set[0][route[-1],1],\n",
    "                               marker=vehicle_markers[i],s=80, facecolors=vehicle_color[v_type_name])\n",
    "        \n",
    "        ax.legend()"
   ]
  },
  {
   "cell_type": "code",
   "execution_count": 22,
   "id": "6d7d4bfd-e7b1-42af-b0f2-8ca2dada6763",
   "metadata": {},
   "outputs": [
    {
     "data": {
      "text/plain": [
       "<All keys matched successfully>"
      ]
     },
     "execution_count": 22,
     "metadata": {},
     "output_type": "execute_result"
    }
   ],
   "source": [
    "config_name = \"simple\"\n",
    "cfg = load_train_config(config_name)\n",
    "cfg[\"device\"] = \"cpu\"\n",
    "\n",
    "checkpoint = torch.load('model_save/simple/exp_1.pth')\n",
    "\n",
    "sampler = Sampler(cfg)\n",
    "sampler.model.load_state_dict(checkpoint['model'])"
   ]
  },
  {
   "cell_type": "code",
   "execution_count": 48,
   "id": "51f0337e-c3c1-4872-a8cd-1d40d7719432",
   "metadata": {},
   "outputs": [
    {
     "data": {
      "image/png": "[encoded data removed]",
      "text/plain": [
       "<Figure size 432x288 with 1 Axes>"
      ]
     },
     "metadata": {
      "needs_background": "light"
     },
     "output_type": "display_data"
    }
   ],
   "source": [
    "seed = random.randint(0, 1000)\n",
    "env = TA_Static(cfg, seed)\n",
    "env.reset()\n",
    "\n",
    "sampler.sample(env)\n",
    "sampler.plot()"
   ]
  },
  {
   "cell_type": "code",
   "execution_count": null,
   "id": "e3cd06fc-cb19-4da2-9bd7-911a5d244181",
   "metadata": {},
   "outputs": [],
   "source": []
  },
  {
   "cell_type": "code",
   "execution_count": null,
   "id": "d4bc07a7-dfdf-4cb4-a8a1-ee6c2ec188ab",
   "metadata": {},
   "outputs": [],
   "source": []
  }
 ],
 "metadata": {
  "kernelspec": {
   "display_name": "ta",
   "language": "python",
   "name": "ta"
  },
  "language_info": {
   "codemirror_mode": {
    "name": "ipython",
    "version": 3
   },
   "file_extension": ".py",
   "mimetype": "text/x-python",
   "name": "python",
   "nbconvert_exporter": "python",
   "pygments_lexer": "ipython3",
   "version": "3.8.13"
  }
 },
 "nbformat": 4,
 "nbformat_minor": 5
}
